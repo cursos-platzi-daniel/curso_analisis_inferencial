{
 "cells": [
  {
   "cell_type": "markdown",
   "metadata": {
    "id": "mkDjlQlgi1EJ"
   },
   "source": [
    "#### Importamos las librerías necesarias para el análisis"
   ]
  },
  {
   "cell_type": "code",
   "execution_count": 17,
   "metadata": {
    "id": "oSK5fRU8i7w3"
   },
   "outputs": [],
   "source": [
    "import pandas as pd\n",
    "import numpy as np\n",
    "import seaborn as sns\n",
    "import scipy.stats as st"
   ]
  },
  {
   "cell_type": "markdown",
   "metadata": {},
   "source": [
    "# Cálculo de intervalo de confianza en python"
   ]
  },
  {
   "cell_type": "markdown",
   "metadata": {
    "id": "Vnfg2Rb2kB_3"
   },
   "source": [
    "#### En esta práctica no contamos con un dataset, lo haremos sobre una distribución creada por computadora."
   ]
  },
  {
   "cell_type": "code",
   "execution_count": 18,
   "metadata": {
    "id": "C5ie4qeVjAMN"
   },
   "outputs": [],
   "source": [
    "# Aqui creamos dos distribuciones de variables de manera aleatoria\n",
    "np.random.seed(20) # Definimos una semilla para que el resultado sea reproducibles\n",
    "var1 = np.random.randint(0, 10, 10) # genera 10 números aleatorios entre 0 y 10 días de vacaciones\n",
    "var2 = var1+np.random.normal(0, 1, 10) # genera 10 números aleatorios entre 0 y 1 de una distribución normal\n",
    "# np.random.normal(0, 1, 10) Esto añade variabilidad o ruido aleatorio a los valores de var1\n",
    "# var1 + np.random.normal(...) Representa \"dinero gastado\" como una variable relacionada con \n",
    "# los días de vacaciones (más días de vacaciones tienden a resultar en más dinero gastado, \n",
    "# pero con variabilidad)\n"
   ]
  },
  {
   "cell_type": "code",
   "execution_count": 19,
   "metadata": {
    "colab": {
     "base_uri": "https://localhost:8080/"
    },
    "id": "NpgKJhLm2r67",
    "outputId": "b921f87d-dad4-4332-d91c-f18055850c4a"
   },
   "outputs": [
    {
     "data": {
      "text/plain": [
       "array([3, 9, 4, 6, 7, 2, 0, 6, 8, 5], dtype=int32)"
      ]
     },
     "execution_count": 19,
     "metadata": {},
     "output_type": "execute_result"
    }
   ],
   "source": [
    "var1"
   ]
  },
  {
   "cell_type": "code",
   "execution_count": 20,
   "metadata": {
    "colab": {
     "base_uri": "https://localhost:8080/"
    },
    "id": "LACHryqV2vNT",
    "outputId": "f51a2e7a-87ba-49fa-b560-a210ea15873a"
   },
   "outputs": [
    {
     "data": {
      "text/plain": [
       "array([1.91516741, 9.55969629, 4.93946935, 5.02151896, 7.50309684,\n",
       "       2.40641447, 0.32346101, 5.50658912, 7.20798321, 4.15763207])"
      ]
     },
     "execution_count": 20,
     "metadata": {},
     "output_type": "execute_result"
    }
   ],
   "source": [
    "var2"
   ]
  },
  {
   "cell_type": "markdown",
   "metadata": {
    "id": "3Eq_atx13Jsh"
   },
   "source": [
    "#### Visualización de resultados con un intervalo de confianza del 80%"
   ]
  },
  {
   "cell_type": "code",
   "execution_count": 21,
   "metadata": {
    "colab": {
     "base_uri": "https://localhost:8080/",
     "height": 323
    },
    "id": "eoC6YSEJ2mq8",
    "outputId": "46d2229a-70bc-4250-d69e-b9cef8c77c81"
   },
   "outputs": [
    {
     "data": {
      "image/png": "[encoded data removed]",
      "text/plain": [
       "<Figure size 640x480 with 1 Axes>"
      ]
     },
     "metadata": {},
     "output_type": "display_data"
    }
   ],
   "source": [
    "# Este es un ejemplo de visualización de un intervalo de confianza del 80%\n",
    "# el cual se mostrará como una sombra de color a lado y lado de la linea de tendencia.\n",
    "grafico = sns.regplot(x=var1, y=var2, ci=80)\n",
    "\n",
    "# Efectivamente vemos que entre más días de vacaciones, mayor dinero gastado"
   ]
  },
  {
   "cell_type": "markdown",
   "metadata": {},
   "source": [
    "Ahora lo que queremos ver, es cuales son estos numeros de CI = 80."
   ]
  },
  {
   "cell_type": "code",
   "execution_count": 22,
   "metadata": {
    "colab": {
     "base_uri": "https://localhost:8080/"
    },
    "id": "1Q1Huolm-adC",
    "outputId": "de74ed19-d39f-4e71-efc4-f70e46c681e1"
   },
   "outputs": [
    {
     "data": {
      "text/plain": [
       "[(np.int32(3), np.float64(1.9151674126826672)),\n",
       " (np.int32(9), np.float64(9.559696289403918)),\n",
       " (np.int32(4), np.float64(4.939469349856077)),\n",
       " (np.int32(6), np.float64(5.021518957881304)),\n",
       " (np.int32(7), np.float64(7.503096840109191)),\n",
       " (np.int32(2), np.float64(2.406414468894801)),\n",
       " (np.int32(0), np.float64(0.3234610099156434)),\n",
       " (np.int32(6), np.float64(5.50658911809112)),\n",
       " (np.int32(8), np.float64(7.207983209222818)),\n",
       " (np.int32(5), np.float64(4.157632065861516))]"
      ]
     },
     "execution_count": 22,
     "metadata": {},
     "output_type": "execute_result"
    }
   ],
   "source": [
    "# Unimos las variables var1 y var2 (estamos creando un tuple) usando la función zip (en español cremallera)\n",
    "tuple = list(zip(var1, var2))\n",
    "tuple"
   ]
  },
  {
   "cell_type": "code",
   "execution_count": 23,
   "metadata": {
    "colab": {
     "base_uri": "https://localhost:8080/",
     "height": 363
    },
    "id": "4g7Xrt2M_vmy",
    "outputId": "7b77ecf5-1594-4de2-e4a8-d9e0d5ffc1db"
   },
   "outputs": [
    {
     "data": {
      "text/html": [
       "<div>\n",
       "<style scoped>\n",
       "    .dataframe tbody tr th:only-of-type {\n",
       "        vertical-align: middle;\n",
       "    }\n",
       "\n",
       "    .dataframe tbody tr th {\n",
       "        vertical-align: top;\n",
       "    }\n",
       "\n",
       "    .dataframe thead th {\n",
       "        text-align: right;\n",
       "    }\n",
       "</style>\n",
       "<table border=\"1\" class=\"dataframe\">\n",
       "  <thead>\n",
       "    <tr style=\"text-align: right;\">\n",
       "      <th></th>\n",
       "      <th>Días_vacaciones</th>\n",
       "      <th>Dinero_gastado</th>\n",
       "    </tr>\n",
       "  </thead>\n",
       "  <tbody>\n",
       "    <tr>\n",
       "      <th>0</th>\n",
       "      <td>3</td>\n",
       "      <td>1.915167</td>\n",
       "    </tr>\n",
       "    <tr>\n",
       "      <th>1</th>\n",
       "      <td>9</td>\n",
       "      <td>9.559696</td>\n",
       "    </tr>\n",
       "    <tr>\n",
       "      <th>2</th>\n",
       "      <td>4</td>\n",
       "      <td>4.939469</td>\n",
       "    </tr>\n",
       "    <tr>\n",
       "      <th>3</th>\n",
       "      <td>6</td>\n",
       "      <td>5.021519</td>\n",
       "    </tr>\n",
       "    <tr>\n",
       "      <th>4</th>\n",
       "      <td>7</td>\n",
       "      <td>7.503097</td>\n",
       "    </tr>\n",
       "    <tr>\n",
       "      <th>5</th>\n",
       "      <td>2</td>\n",
       "      <td>2.406414</td>\n",
       "    </tr>\n",
       "    <tr>\n",
       "      <th>6</th>\n",
       "      <td>0</td>\n",
       "      <td>0.323461</td>\n",
       "    </tr>\n",
       "    <tr>\n",
       "      <th>7</th>\n",
       "      <td>6</td>\n",
       "      <td>5.506589</td>\n",
       "    </tr>\n",
       "    <tr>\n",
       "      <th>8</th>\n",
       "      <td>8</td>\n",
       "      <td>7.207983</td>\n",
       "    </tr>\n",
       "    <tr>\n",
       "      <th>9</th>\n",
       "      <td>5</td>\n",
       "      <td>4.157632</td>\n",
       "    </tr>\n",
       "  </tbody>\n",
       "</table>\n",
       "</div>"
      ],
      "text/plain": [
       "   Días_vacaciones  Dinero_gastado\n",
       "0                3        1.915167\n",
       "1                9        9.559696\n",
       "2                4        4.939469\n",
       "3                6        5.021519\n",
       "4                7        7.503097\n",
       "5                2        2.406414\n",
       "6                0        0.323461\n",
       "7                6        5.506589\n",
       "8                8        7.207983\n",
       "9                5        4.157632"
      ]
     },
     "execution_count": 23,
     "metadata": {},
     "output_type": "execute_result"
    }
   ],
   "source": [
    "# Transformamos el tuple a un dataframe \n",
    "tabla = pd.DataFrame(tuple,\n",
    "                  columns = ['Días_vacaciones', 'Dinero_gastado'])\n",
    "tabla"
   ]
  },
  {
   "cell_type": "code",
   "execution_count": 24,
   "metadata": {},
   "outputs": [
    {
     "name": "stdout",
     "output_type": "stream",
     "text": [
      "4.8541028721919055\n",
      "5.0\n"
     ]
    }
   ],
   "source": [
    "print(np.mean(tabla['Dinero_gastado']))\n",
    "print(np.mean(tabla['Días_vacaciones']))"
   ]
  },
  {
   "cell_type": "code",
   "execution_count": 28,
   "metadata": {
    "colab": {
     "base_uri": "https://localhost:8080/"
    },
    "id": "w5TuzqZ1BaTd",
    "outputId": "a5aa3644-e4f9-417b-bae9-5207c6786117"
   },
   "outputs": [
    {
     "data": {
      "text/plain": [
       "(array([3.99882002, 3.99351844]), array([5.85528285, 5.86058443]))"
      ]
     },
     "execution_count": 28,
     "metadata": {},
     "output_type": "execute_result"
    }
   ],
   "source": [
    "# Apoyandonos en la librería scipy\n",
    "# Calculamos los intervalos de confianza a un 95% para ambas variables\n",
    "\n",
    "st.t.interval(confidence=0.68, df=len(tabla)-1, loc=np.mean(tabla), scale=st.sem(tabla))\n",
    "\n",
    "# st.t.interval:Esta función calcula el intervalo de confianza utilizando la \n",
    "# distribución t de Student. Es útil cuando trabajas con muestras pequeñas y \n",
    "# no conoces la desviación estándar poblacional.\n",
    "\n",
    "# si n >= 30 , mejor usamos st.norm.interval\n",
    "\n",
    "# loc=np.mean(tabla) Calcula la media de ambas variables: Días_vacaciones y Dinero_gastado\n",
    "\n",
    "# scale=st.sem(tabla) representa el error estándar de la media.\n",
    "# calcula este valor dividiendo la desviación estándar de la \n",
    "# muestra entre la raíz cuadrada de su tamaño n.\n",
    "\n",
    "# Resultado: El intervalo de confianza 95% va entre:\n",
    "# 2.84 días y 3 días (es practicamente seguro que las personas salgan por 3 días)\n",
    "# 6.86 (68%)  y 6.99 (69%) pesos (es practicamente seguro que las personas gasten el 69% de su dinero)"
   ]
  },
  {
   "cell_type": "markdown",
   "metadata": {},
   "source": [
    "\n",
    "# ¿Qué es un intervalo de confianza?\n",
    "\n",
    "Un **intervalo de confianza (IC)** es un rango de valores que tiene una cierta probabilidad de contener la verdadera **media poblacional** del parámetro de interés.  \n",
    "El **nivel de confianza** (por ejemplo, 95%) indica la certeza que tenemos de que el intervalo incluye el este valor verdadero.\n",
    "\n",
    "# ¿Para qué sirve un intervalo de confianza?\n",
    "\n",
    "### 1. Estimar parámetros desconocidos  \n",
    "Nos ayuda a entender dónde puede estar la **media real de la población** sin tener que medir todos los datos.\n",
    "\n",
    "**Ejemplo:**  \n",
    "Si queremos saber el salario promedio de un país, podemos calcularlo con una muestra, y el IC nos da un rango plausible.\n",
    "\n",
    "### 2. Tomar decisiones  \n",
    "Permite evaluar si los resultados cumplen con lo esperado.\n",
    "\n",
    "**Ejemplo:**  \n",
    "Si estás analizando si una nueva política mejora los ingresos, puedes observar si el IC incluye o no el valor esperado.\n",
    "\n",
    "### 3. Medir la incertidumbre  \n",
    "El IC nos muestra qué tan **precisos** son los resultados, indicando el grado de confianza en las estimaciones.\n",
    "\n",
    "# ¿Por qué varía el nivel de confianza (CI)?\n",
    "\n",
    "El **nivel de confianza (CI)** indica qué tan seguros queremos estar de que el intervalo contiene la **media real**:\n",
    "\n",
    "- **68%:** Intervalos más estrechos, pero menos confiables (más margen de error).\n",
    "- **95%:** Más usado: intervalos suficientemente precisos y confiables.\n",
    "- **99% o más:** Intervalos más amplios para mayor seguridad, pero menos útiles porque son menos precisos.\n",
    "\n",
    "### Ejemplo práctico:\n",
    "\n",
    "- **CI del 68%:** \"Estoy **algo** seguro, pero podría estar equivocado.\"\n",
    "- **CI del 95%:** \"Estoy **razonablemente** seguro y es un estándar.\"\n",
    "- **CI del 99%:** \"Estoy **casi completamente** seguro, pero el rango puede ser muy amplio.\"\n",
    "\n",
    "# ¿Cómo se escoge el nivel de confianza?\n",
    "\n",
    "Depende de:\n",
    "\n",
    "### 1. El propósito del análisis  \n",
    "- Si necesitas alta **seguridad**, usa un **CI mayor (99%)**.\n",
    "- Si quieres **intervalos más específicos**, usa un **CI menor (68% o 90%)**.\n",
    "\n",
    "### 2. La importancia del error  \n",
    "- En **decisiones críticas** (medicina, inversiones), priorizas niveles más altos de  \n",
    "  seguridad con la contra parte de que tendras un intervalo más amplio. (**99%**).\n",
    "- En **análisis exploratorios o rápidos**, un **CI del 95%** suele ser suficiente.\n",
    "\n",
    "### 3. Convenciones del campo  \n",
    "- En **investigación académica**, el **95%** es el más usado.\n",
    "\n",
    "# Ejemplo para dummies\n",
    "\n",
    "Imagina que estás probando el rendimiento promedio de un carro nuevo:\n",
    "\n",
    "### Con un CI del 95%\n",
    "Obtienes un intervalo de **(15 km/L, 20 km/L)**.  \n",
    "Esto significa que estás **95% seguro** de que el consumo real está en este rango.\n",
    "\n",
    "### Con un CI del 99%\n",
    "El intervalo es **(13 km/L, 22 km/L)**.  \n",
    "Aquí tienes más confianza, pero el rango es más amplio.\n",
    "\n",
    "### Con un CI del 68%\n",
    "El intervalo es **(17 km/L, 19 km/L)**.  \n",
    "Es un rango más preciso, pero es más probable que **no contenga la media real**."
   ]
  }
 ],
 "metadata": {
  "colab": {
   "provenance": []
  },
  "kernelspec": {
   "display_name": "venv",
   "language": "python",
   "name": "python3"
  },
  "language_info": {
   "codemirror_mode": {
    "name": "ipython",
    "version": 3
   },
   "file_extension": ".py",
   "mimetype": "text/x-python",
   "name": "python",
   "nbconvert_exporter": "python",
   "pygments_lexer": "ipython3",
   "version": "3.12.1"
  }
 },
 "nbformat": 4,
 "nbformat_minor": 0
}
