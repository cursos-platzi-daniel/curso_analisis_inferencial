{
 "cells": [
  {
   "cell_type": "markdown",
   "metadata": {
    "id": "Esy8eTT9Y0d2"
   },
   "source": [
    "#### Importamos las librerías necesarias para el análisis"
   ]
  },
  {
   "cell_type": "code",
   "execution_count": 1,
   "metadata": {
    "id": "DVk5cURAYhOq"
   },
   "outputs": [],
   "source": [
    "import pandas as pd\n",
    "import numpy as np\n",
    "import random"
   ]
  },
  {
   "cell_type": "code",
   "execution_count": 2,
   "metadata": {
    "colab": {
     "base_uri": "https://localhost:8080/"
    },
    "id": "yvAAawcmZjT-",
    "outputId": "6a8b6815-4d67-443c-ee5b-8eb966131654"
   },
   "outputs": [
    {
     "data": {
      "text/plain": [
       "array([32.0277855 , 33.86414986, 34.02166092, ..., 34.55444399,\n",
       "       33.1253159 , 34.13373702])"
      ]
     },
     "execution_count": 2,
     "metadata": {},
     "output_type": "execute_result"
    }
   ],
   "source": [
    "# Creamos una muestra aleatoria de 10,0000 personas que tienen una edad promedio de 34 años\n",
    "data = np.random.normal(loc= 34, size=10000)\n",
    "data"
   ]
  },
  {
   "cell_type": "code",
   "execution_count": 3,
   "metadata": {
    "colab": {
     "base_uri": "https://localhost:8080/"
    },
    "id": "qzv5NJTFZ9LV",
    "outputId": "eb550fe9-353b-4f52-ee81-1ba4c741b127"
   },
   "outputs": [
    {
     "data": {
      "text/plain": [
       "np.float64(34.00271295013872)"
      ]
     },
     "execution_count": 3,
     "metadata": {},
     "output_type": "execute_result"
    }
   ],
   "source": [
    "# Comprobamos cuál es el promedio de edad de nuestra base\n",
    "data.mean()"
   ]
  },
  {
   "cell_type": "markdown",
   "metadata": {
    "id": "ZxPFUkfNaRa8"
   },
   "source": [
    "#### Iniciamos el procedimiento para calcular el promedio de edad a partir de bootstrapping"
   ]
  },
  {
   "cell_type": "code",
   "execution_count": null,
   "metadata": {
    "id": "FCvH2oSvaPrI"
   },
   "outputs": [],
   "source": [
    "# Vamos a crear 40 muestras de tamaño 5 para estimar el promedio\n",
    "promedio = [] # Esta lista almacenará los promedios calculados de cada una de las muestras aleatorias.\n",
    "for i in range(40): # Este bucle se ejecuta 40 veces, lo que significa que va a generar 40 promedios.\n",
    "  muestra = random.sample(data.tolist(), 5) #  toma una muestra aleatoria de 5 datos de la lista data\n",
    "  # .tolist() convierte un array de numpy en una lista de python estandar.\n",
    "  prom = np.mean(muestra) # Calcula el promedio de los 5 elementos seleccionados en la muestra\n",
    "  promedio.append(prom) # el valor de prom se agrega a la lista promedio"
   ]
  },
  {
   "cell_type": "markdown",
   "metadata": {
    "id": "WzDbMqsfbKcT"
   },
   "source": [
    "La lista llamada promedio que hemos creado va a contener el promedio para las 40 muestras. Para estimar el promedio de la población tenemos que calcular el promedio de la lista promedio."
   ]
  },
  {
   "cell_type": "code",
   "execution_count": 5,
   "metadata": {
    "colab": {
     "base_uri": "https://localhost:8080/"
    },
    "id": "G-gg965VbH5f",
    "outputId": "f2ec41c7-b5bf-4441-a1ed-e193ed31a950"
   },
   "outputs": [
    {
     "data": {
      "text/plain": [
       "np.float64(34.05383243346647)"
      ]
     },
     "execution_count": 5,
     "metadata": {},
     "output_type": "execute_result"
    }
   ],
   "source": [
    "np.mean(promedio)"
   ]
  },
  {
   "cell_type": "markdown",
   "metadata": {},
   "source": [
    "La técnica de bootstrapping se utiliza en estadística cuando se necesita estimar la distribución de una estadística (como la media, la mediana, la varianza, etc.) a partir de una muestra de datos, sin asumir una distribución específica sino aleatoria. Es especialmente útil cuando no se puede realizar una inferencia confiable debido a la falta de supuestos como normalidad en los datos o cuando las muestras son pequeñas."
   ]
  },
  {
   "cell_type": "markdown",
   "metadata": {
    "id": "iY2MIMhHcRS-"
   },
   "source": [
    "En bootstrapping, cada vez obtendríamos un resultado diferente porque tomamos muestras aleatorias con reemplazo de un conjunto de datos. El muestreo por bootstrapping saca promedios de una población creando muestras más pequeñas y se usa para DS e IA para evitar el overfitting. Overfitting ocurre cuando un modelo aprende demasiado bien los datos de entrenamiento, hasta el punto de que memorizan detalles irrelevantes o el ruido en esos datos. Como resultado, el modelo no generaliza bien cuando se le da nueva información, ya que ha aprendido a ser muy específico con los datos de entrenamiento. Al usar bootstrapping, generamos muestras aleatorias del conjunto de datos y calculamos promedios o estadísticas. Esto ayuda a que el modelo no dependa solo de un conjunto específico de datos, sino que se entrene con diferentes \"versiones\" del conjunto de datos. Esto hace que el modelo sea más robusto y menos probable que se ajuste demasiado a un conjunto de entrenamiento específico. El overfitting ó sobreajuste es un error de modelado que se produce cuando una función se ajusta demasiado a un conjunto limitado de puntos de datos. Así, el modelo da buenos resultados en los datos de entrenamiento, pero falla cuando se enfrenta a nuevos datos. Al entrenar con muchas muestras pequeñas y aleatorias, el modelo no se ajusta demasiado a un conjunto limitado de datos, lo que mejora su capacidad para generalizar y hacer predicciones con nuevos datos."
   ]
  },
  {
   "cell_type": "markdown",
   "metadata": {},
   "source": [
    "\n",
    "### Ejemplo práctico:\n",
    "\n",
    "Imagina que tienes una muestra de 10 personas y quieres estimar el promedio de sus edades. Si no puedes asumir que la edad sigue una distribución normal o si la muestra es muy pequeña para confiar en una aproximación paramétrica, puedes usar **bootstrapping**.\n",
    "\n",
    "1. **Paso 1**: Tienes una muestra de 10 edades.\n",
    "2. **Paso 2**: Tomar una muestra aleatoria de 10 edades, pero permitiendo repetir edades, y calcular el promedio de esa muestra.\n",
    "3. **Paso 3**: Repetir este proceso muchas veces (por ejemplo, 1000 veces).\n",
    "4. **Paso 4**: Analizar la distribución de los promedios obtenidos en las 1000 repeticiones para obtener un intervalo de confianza del promedio.\n",
    "\n",
    "### Ventajas del Bootstrapping:\n",
    "- No requiere supuestos sobre la distribución de los datos (como la normalidad).\n",
    "- Es fácil de aplicar, incluso con muestras pequeñas.\n",
    "- Proporciona estimaciones precisas de la variabilidad de las estadísticas.\n",
    "\n",
    "### Desventajas:\n",
    "- Requiere una cantidad considerable de cómputo, especialmente con muestras grandes y muchas repeticiones.\n",
    "- El bootstrapping puede ser menos efectivo si la muestra original es muy pequeña y no es representativa de la población."
   ]
  }
 ],
 "metadata": {
  "colab": {
   "provenance": []
  },
  "kernelspec": {
   "display_name": "venv",
   "language": "python",
   "name": "python3"
  },
  "language_info": {
   "codemirror_mode": {
    "name": "ipython",
    "version": 3
   },
   "file_extension": ".py",
   "mimetype": "text/x-python",
   "name": "python",
   "nbconvert_exporter": "python",
   "pygments_lexer": "ipython3",
   "version": "3.12.1"
  }
 },
 "nbformat": 4,
 "nbformat_minor": 0
}
